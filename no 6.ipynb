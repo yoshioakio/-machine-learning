{
 "cells": [
  {
   "cell_type": "code",
   "execution_count": 22,
   "metadata": {
    "metadata": {}
   },
   "outputs": [],
   "source": [
    "import numpy as np"
   ]
  },
  {
   "cell_type": "code",
   "execution_count": 27,
   "metadata": {
    "metadata": {}
   },
   "outputs": [
    {
     "name": "stdout",
     "output_type": "stream",
     "text": [
      "[[3 2 1 2 1 4 3 2 4 2 3 1 4 2 2 1 4 3 1 4 3 3 2 4 1 2 2 3 3 4]\n",
      " [2 2 3 2 4 3 2 1 2 3 3 4 2 2 2 2 2 2 2 1 3 1 2 4 4 2 4 2 3 1]\n",
      " [2 2 2 2 3 4 4 1 2 4 2 3 3 1 2 4 1 2 1 1 2 2 1 4 4 2 4 1 1 1]]\n"
     ]
    }
   ],
   "source": [
    "from numpy import *\n",
    "matriks = np.random.randint(1,5,(3,30))\n",
    "print(matriks)"
   ]
  }
 ],
 "metadata": {
  "language_info": {
   "name": "python"
  }
 },
 "nbformat": 4,
 "nbformat_minor": 2
}
